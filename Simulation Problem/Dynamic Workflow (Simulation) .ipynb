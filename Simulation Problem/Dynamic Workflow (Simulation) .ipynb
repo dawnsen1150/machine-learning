{
 "cells": [
  {
   "cell_type": "markdown",
   "metadata": {},
   "source": [
    "# Simulation to understand efficiency gain from dynamic workflow over regular workflow"
   ]
  },
  {
   "cell_type": "code",
   "execution_count": 1,
   "metadata": {},
   "outputs": [
    {
     "name": "stderr",
     "output_type": "stream",
     "text": [
      "C:\\Users\\PSEN\\AppData\\Local\\Continuum\\anaconda3\\lib\\site-packages\\statsmodels\\tools\\_testing.py:19: FutureWarning: pandas.util.testing is deprecated. Use the functions in the public API at pandas.testing instead.\n",
      "  import pandas.util.testing as tm\n"
     ]
    },
    {
     "data": {
      "application/javascript": [
       "\n",
       "            setTimeout(function() {\n",
       "                var nbb_cell_id = 1;\n",
       "                var nbb_unformatted_code = \"import pandas as pd\\nimport numpy as np\\nimport matplotlib as plt\\nimport seaborn as sns\\n\\n%load_ext nb_black\";\n",
       "                var nbb_formatted_code = \"import pandas as pd\\nimport numpy as np\\nimport matplotlib as plt\\nimport seaborn as sns\\n\\n%load_ext nb_black\";\n",
       "                var nbb_cells = Jupyter.notebook.get_cells();\n",
       "                for (var i = 0; i < nbb_cells.length; ++i) {\n",
       "                    if (nbb_cells[i].input_prompt_number == nbb_cell_id) {\n",
       "                        if (nbb_cells[i].get_text() == nbb_unformatted_code) {\n",
       "                             nbb_cells[i].set_text(nbb_formatted_code);\n",
       "                        }\n",
       "                        break;\n",
       "                    }\n",
       "                }\n",
       "            }, 500);\n",
       "            "
      ],
      "text/plain": [
       "<IPython.core.display.Javascript object>"
      ]
     },
     "metadata": {},
     "output_type": "display_data"
    }
   ],
   "source": [
    "import pandas as pd\n",
    "import numpy as np\n",
    "import matplotlib as plt\n",
    "import seaborn as sns\n",
    "\n",
    "%load_ext nb_black"
   ]
  },
  {
   "cell_type": "markdown",
   "metadata": {},
   "source": [
    "# Dynamic Workflow"
   ]
  },
  {
   "cell_type": "markdown",
   "metadata": {},
   "source": [
    "# Assumptions:\n",
    "### 1.Capacity of the staging area is 120 units\n",
    "### 2.Total 5 employees\n",
    "### 3.There will be three doors opened when the capcity reaches the celling\n",
    "### 4.There will be one door opened when the capcity reaches the floor\n",
    "### 5.We will be generating 1000 orders with random number of units between 200 and 800"
   ]
  },
  {
   "cell_type": "markdown",
   "metadata": {},
   "source": [
    "# Assumtions\n",
    "\n",
    "### 1. We are assuming random loader picker ratio to complete the work, assuming this is the ratio set by the supervisor\n",
    "### 2.We will be generating 1000 orders with random number of units between 200 and 800"
   ]
  },
  {
   "cell_type": "code",
   "execution_count": 41,
   "metadata": {},
   "outputs": [
    {
     "data": {
      "text/plain": [
       "{'load time': 325.0, 'pick time': 201.66666666666666, 'unit': 120.0}"
      ]
     },
     "execution_count": 41,
     "metadata": {},
     "output_type": "execute_result"
    },
    {
     "data": {
      "application/javascript": [
       "\n",
       "            setTimeout(function() {\n",
       "                var nbb_cell_id = 41;\n",
       "                var nbb_unformatted_code = \"data = {\\n    \\\"loading\\\": [120, 110, 100, 90, 80, 70, 60, 50, 40, 30, 20, 10, 0],\\n    \\\"picking\\\": [0, 10, 20, 30, 40, 50, 60, 70, 80, 90, 100, 110, 120],\\n    \\\"Door\\\": [3, 3, 3, 2, 2, 2, 2, 2, 2, 2, 1, 1, 0],\\n    \\\"loader\\\": [3, 3, 3, 2, 2, 2, 2, 2, 2, 2, 1, 1, 0],\\n    \\\"picker\\\": [2, 2, 2, 3, 3, 3, 3, 3, 3, 3, 4, 4, 5],\\n}\\ndf = pd.DataFrame(data)\\ndf[\\\"Ratio\\\"] = df[\\\"loader\\\"].astype(\\\"str\\\") + \\\":\\\" + df[\\\"picker\\\"].astype(\\\"str\\\")\\ndf[\\\"load_work\\\"] = df[\\\"loading\\\"] - df[\\\"loading\\\"].shift(-1)\\ndf[\\\"pick_work\\\"] = df[\\\"picking\\\"] - df[\\\"picking\\\"].shift(1)\\ndf[\\\"load_work\\\"] = df[\\\"load_work\\\"].fillna(0)\\ndf[\\\"pick_work\\\"] = df[\\\"pick_work\\\"].fillna(0)\\ndf[\\\"load_time\\\"] = [\\n    5 * (df.load_work[i] / df.loader[i]) if df.load_work[i] > 0 else 0 for i in df.index\\n]\\ndf[\\\"pick_time\\\"] = [\\n    5 * (df.pick_work[i] / df.picker[i]) if df.pick_work[i] > 0 else 0 for i in df.index\\n]\\n\\nload_time = sum(df.load_time)\\npick_time = sum(df.pick_time)\\n# df\\n\\n\\ndef time(df):\\n    load_time = sum(df.load_time)\\n    pick_time = sum(df.pick_time)\\n    units = sum(df.load_work)\\n    avg_loader = round(sum(df.loader) / len(df), 1)\\n    avg_picker = round(sum(df.picker) / len(df), 1)\\n    return {\\\"load time\\\": load_time, \\\"pick time\\\": pick_time, \\\"unit\\\": units}\\n\\n\\ntime(df)\";\n",
       "                var nbb_formatted_code = \"data = {\\n    \\\"loading\\\": [120, 110, 100, 90, 80, 70, 60, 50, 40, 30, 20, 10, 0],\\n    \\\"picking\\\": [0, 10, 20, 30, 40, 50, 60, 70, 80, 90, 100, 110, 120],\\n    \\\"Door\\\": [3, 3, 3, 2, 2, 2, 2, 2, 2, 2, 1, 1, 0],\\n    \\\"loader\\\": [3, 3, 3, 2, 2, 2, 2, 2, 2, 2, 1, 1, 0],\\n    \\\"picker\\\": [2, 2, 2, 3, 3, 3, 3, 3, 3, 3, 4, 4, 5],\\n}\\ndf = pd.DataFrame(data)\\ndf[\\\"Ratio\\\"] = df[\\\"loader\\\"].astype(\\\"str\\\") + \\\":\\\" + df[\\\"picker\\\"].astype(\\\"str\\\")\\ndf[\\\"load_work\\\"] = df[\\\"loading\\\"] - df[\\\"loading\\\"].shift(-1)\\ndf[\\\"pick_work\\\"] = df[\\\"picking\\\"] - df[\\\"picking\\\"].shift(1)\\ndf[\\\"load_work\\\"] = df[\\\"load_work\\\"].fillna(0)\\ndf[\\\"pick_work\\\"] = df[\\\"pick_work\\\"].fillna(0)\\ndf[\\\"load_time\\\"] = [\\n    5 * (df.load_work[i] / df.loader[i]) if df.load_work[i] > 0 else 0 for i in df.index\\n]\\ndf[\\\"pick_time\\\"] = [\\n    5 * (df.pick_work[i] / df.picker[i]) if df.pick_work[i] > 0 else 0 for i in df.index\\n]\\n\\nload_time = sum(df.load_time)\\npick_time = sum(df.pick_time)\\n# df\\n\\n\\ndef time(df):\\n    load_time = sum(df.load_time)\\n    pick_time = sum(df.pick_time)\\n    units = sum(df.load_work)\\n    avg_loader = round(sum(df.loader) / len(df), 1)\\n    avg_picker = round(sum(df.picker) / len(df), 1)\\n    return {\\\"load time\\\": load_time, \\\"pick time\\\": pick_time, \\\"unit\\\": units}\\n\\n\\ntime(df)\";\n",
       "                var nbb_cells = Jupyter.notebook.get_cells();\n",
       "                for (var i = 0; i < nbb_cells.length; ++i) {\n",
       "                    if (nbb_cells[i].input_prompt_number == nbb_cell_id) {\n",
       "                        if (nbb_cells[i].get_text() == nbb_unformatted_code) {\n",
       "                             nbb_cells[i].set_text(nbb_formatted_code);\n",
       "                        }\n",
       "                        break;\n",
       "                    }\n",
       "                }\n",
       "            }, 500);\n",
       "            "
      ],
      "text/plain": [
       "<IPython.core.display.Javascript object>"
      ]
     },
     "metadata": {},
     "output_type": "display_data"
    }
   ],
   "source": [
    "data = {\n",
    "    \"loading\": [120, 110, 100, 90, 80, 70, 60, 50, 40, 30, 20, 10, 0],\n",
    "    \"picking\": [0, 10, 20, 30, 40, 50, 60, 70, 80, 90, 100, 110, 120],\n",
    "    \"Door\": [3, 3, 3, 2, 2, 2, 2, 2, 2, 2, 1, 1, 0],\n",
    "    \"loader\": [3, 3, 3, 2, 2, 2, 2, 2, 2, 2, 1, 1, 0],\n",
    "    \"picker\": [2, 2, 2, 3, 3, 3, 3, 3, 3, 3, 4, 4, 5],\n",
    "}\n",
    "df = pd.DataFrame(data)\n",
    "df[\"Ratio\"] = df[\"loader\"].astype(\"str\") + \":\" + df[\"picker\"].astype(\"str\")\n",
    "df[\"load_work\"] = df[\"loading\"] - df[\"loading\"].shift(-1)\n",
    "df[\"pick_work\"] = df[\"picking\"] - df[\"picking\"].shift(1)\n",
    "df[\"load_work\"] = df[\"load_work\"].fillna(0)\n",
    "df[\"pick_work\"] = df[\"pick_work\"].fillna(0)\n",
    "df[\"load_time\"] = [\n",
    "    5 * (df.load_work[i] / df.loader[i]) if df.load_work[i] > 0 else 0 for i in df.index\n",
    "]\n",
    "df[\"pick_time\"] = [\n",
    "    5 * (df.pick_work[i] / df.picker[i]) if df.pick_work[i] > 0 else 0 for i in df.index\n",
    "]\n",
    "\n",
    "load_time = sum(df.load_time)\n",
    "pick_time = sum(df.pick_time)\n",
    "# df\n",
    "\n",
    "\n",
    "def time(df):\n",
    "    load_time = sum(df.load_time)\n",
    "    pick_time = sum(df.pick_time)\n",
    "    units = sum(df.load_work)\n",
    "    avg_loader = round(sum(df.loader) / len(df), 1)\n",
    "    avg_picker = round(sum(df.picker) / len(df), 1)\n",
    "    return {\"load time\": load_time, \"pick time\": pick_time, \"unit\": units}\n",
    "\n",
    "\n",
    "time(df)"
   ]
  },
  {
   "cell_type": "code",
   "execution_count": 42,
   "metadata": {},
   "outputs": [
    {
     "data": {
      "text/html": [
       "<div>\n",
       "<style scoped>\n",
       "    .dataframe tbody tr th:only-of-type {\n",
       "        vertical-align: middle;\n",
       "    }\n",
       "\n",
       "    .dataframe tbody tr th {\n",
       "        vertical-align: top;\n",
       "    }\n",
       "\n",
       "    .dataframe thead th {\n",
       "        text-align: right;\n",
       "    }\n",
       "</style>\n",
       "<table border=\"1\" class=\"dataframe\">\n",
       "  <thead>\n",
       "    <tr style=\"text-align: right;\">\n",
       "      <th></th>\n",
       "      <th>loading</th>\n",
       "      <th>picking</th>\n",
       "      <th>Door</th>\n",
       "      <th>loader</th>\n",
       "      <th>picker</th>\n",
       "      <th>Ratio</th>\n",
       "      <th>load_work</th>\n",
       "      <th>pick_work</th>\n",
       "      <th>load_time</th>\n",
       "      <th>pick_time</th>\n",
       "    </tr>\n",
       "  </thead>\n",
       "  <tbody>\n",
       "    <tr>\n",
       "      <th>0</th>\n",
       "      <td>120</td>\n",
       "      <td>0</td>\n",
       "      <td>3</td>\n",
       "      <td>3</td>\n",
       "      <td>2</td>\n",
       "      <td>3:2</td>\n",
       "      <td>10.0</td>\n",
       "      <td>0.0</td>\n",
       "      <td>16.666667</td>\n",
       "      <td>0.000000</td>\n",
       "    </tr>\n",
       "    <tr>\n",
       "      <th>1</th>\n",
       "      <td>110</td>\n",
       "      <td>10</td>\n",
       "      <td>3</td>\n",
       "      <td>3</td>\n",
       "      <td>2</td>\n",
       "      <td>3:2</td>\n",
       "      <td>10.0</td>\n",
       "      <td>10.0</td>\n",
       "      <td>16.666667</td>\n",
       "      <td>25.000000</td>\n",
       "    </tr>\n",
       "    <tr>\n",
       "      <th>2</th>\n",
       "      <td>100</td>\n",
       "      <td>20</td>\n",
       "      <td>3</td>\n",
       "      <td>3</td>\n",
       "      <td>2</td>\n",
       "      <td>3:2</td>\n",
       "      <td>10.0</td>\n",
       "      <td>10.0</td>\n",
       "      <td>16.666667</td>\n",
       "      <td>25.000000</td>\n",
       "    </tr>\n",
       "    <tr>\n",
       "      <th>3</th>\n",
       "      <td>90</td>\n",
       "      <td>30</td>\n",
       "      <td>2</td>\n",
       "      <td>2</td>\n",
       "      <td>3</td>\n",
       "      <td>2:3</td>\n",
       "      <td>10.0</td>\n",
       "      <td>10.0</td>\n",
       "      <td>25.000000</td>\n",
       "      <td>16.666667</td>\n",
       "    </tr>\n",
       "    <tr>\n",
       "      <th>4</th>\n",
       "      <td>80</td>\n",
       "      <td>40</td>\n",
       "      <td>2</td>\n",
       "      <td>2</td>\n",
       "      <td>3</td>\n",
       "      <td>2:3</td>\n",
       "      <td>10.0</td>\n",
       "      <td>10.0</td>\n",
       "      <td>25.000000</td>\n",
       "      <td>16.666667</td>\n",
       "    </tr>\n",
       "    <tr>\n",
       "      <th>5</th>\n",
       "      <td>70</td>\n",
       "      <td>50</td>\n",
       "      <td>2</td>\n",
       "      <td>2</td>\n",
       "      <td>3</td>\n",
       "      <td>2:3</td>\n",
       "      <td>10.0</td>\n",
       "      <td>10.0</td>\n",
       "      <td>25.000000</td>\n",
       "      <td>16.666667</td>\n",
       "    </tr>\n",
       "    <tr>\n",
       "      <th>6</th>\n",
       "      <td>60</td>\n",
       "      <td>60</td>\n",
       "      <td>2</td>\n",
       "      <td>2</td>\n",
       "      <td>3</td>\n",
       "      <td>2:3</td>\n",
       "      <td>10.0</td>\n",
       "      <td>10.0</td>\n",
       "      <td>25.000000</td>\n",
       "      <td>16.666667</td>\n",
       "    </tr>\n",
       "    <tr>\n",
       "      <th>7</th>\n",
       "      <td>50</td>\n",
       "      <td>70</td>\n",
       "      <td>2</td>\n",
       "      <td>2</td>\n",
       "      <td>3</td>\n",
       "      <td>2:3</td>\n",
       "      <td>10.0</td>\n",
       "      <td>10.0</td>\n",
       "      <td>25.000000</td>\n",
       "      <td>16.666667</td>\n",
       "    </tr>\n",
       "    <tr>\n",
       "      <th>8</th>\n",
       "      <td>40</td>\n",
       "      <td>80</td>\n",
       "      <td>2</td>\n",
       "      <td>2</td>\n",
       "      <td>3</td>\n",
       "      <td>2:3</td>\n",
       "      <td>10.0</td>\n",
       "      <td>10.0</td>\n",
       "      <td>25.000000</td>\n",
       "      <td>16.666667</td>\n",
       "    </tr>\n",
       "    <tr>\n",
       "      <th>9</th>\n",
       "      <td>30</td>\n",
       "      <td>90</td>\n",
       "      <td>2</td>\n",
       "      <td>2</td>\n",
       "      <td>3</td>\n",
       "      <td>2:3</td>\n",
       "      <td>10.0</td>\n",
       "      <td>10.0</td>\n",
       "      <td>25.000000</td>\n",
       "      <td>16.666667</td>\n",
       "    </tr>\n",
       "    <tr>\n",
       "      <th>10</th>\n",
       "      <td>20</td>\n",
       "      <td>100</td>\n",
       "      <td>1</td>\n",
       "      <td>1</td>\n",
       "      <td>4</td>\n",
       "      <td>1:4</td>\n",
       "      <td>10.0</td>\n",
       "      <td>10.0</td>\n",
       "      <td>50.000000</td>\n",
       "      <td>12.500000</td>\n",
       "    </tr>\n",
       "    <tr>\n",
       "      <th>11</th>\n",
       "      <td>10</td>\n",
       "      <td>110</td>\n",
       "      <td>1</td>\n",
       "      <td>1</td>\n",
       "      <td>4</td>\n",
       "      <td>1:4</td>\n",
       "      <td>10.0</td>\n",
       "      <td>10.0</td>\n",
       "      <td>50.000000</td>\n",
       "      <td>12.500000</td>\n",
       "    </tr>\n",
       "    <tr>\n",
       "      <th>12</th>\n",
       "      <td>0</td>\n",
       "      <td>120</td>\n",
       "      <td>0</td>\n",
       "      <td>0</td>\n",
       "      <td>5</td>\n",
       "      <td>0:5</td>\n",
       "      <td>0.0</td>\n",
       "      <td>10.0</td>\n",
       "      <td>0.000000</td>\n",
       "      <td>10.000000</td>\n",
       "    </tr>\n",
       "  </tbody>\n",
       "</table>\n",
       "</div>"
      ],
      "text/plain": [
       "    loading  picking  Door  loader  picker Ratio  load_work  pick_work  \\\n",
       "0       120        0     3       3       2   3:2       10.0        0.0   \n",
       "1       110       10     3       3       2   3:2       10.0       10.0   \n",
       "2       100       20     3       3       2   3:2       10.0       10.0   \n",
       "3        90       30     2       2       3   2:3       10.0       10.0   \n",
       "4        80       40     2       2       3   2:3       10.0       10.0   \n",
       "5        70       50     2       2       3   2:3       10.0       10.0   \n",
       "6        60       60     2       2       3   2:3       10.0       10.0   \n",
       "7        50       70     2       2       3   2:3       10.0       10.0   \n",
       "8        40       80     2       2       3   2:3       10.0       10.0   \n",
       "9        30       90     2       2       3   2:3       10.0       10.0   \n",
       "10       20      100     1       1       4   1:4       10.0       10.0   \n",
       "11       10      110     1       1       4   1:4       10.0       10.0   \n",
       "12        0      120     0       0       5   0:5        0.0       10.0   \n",
       "\n",
       "    load_time  pick_time  \n",
       "0   16.666667   0.000000  \n",
       "1   16.666667  25.000000  \n",
       "2   16.666667  25.000000  \n",
       "3   25.000000  16.666667  \n",
       "4   25.000000  16.666667  \n",
       "5   25.000000  16.666667  \n",
       "6   25.000000  16.666667  \n",
       "7   25.000000  16.666667  \n",
       "8   25.000000  16.666667  \n",
       "9   25.000000  16.666667  \n",
       "10  50.000000  12.500000  \n",
       "11  50.000000  12.500000  \n",
       "12   0.000000  10.000000  "
      ]
     },
     "execution_count": 42,
     "metadata": {},
     "output_type": "execute_result"
    },
    {
     "data": {
      "application/javascript": [
       "\n",
       "            setTimeout(function() {\n",
       "                var nbb_cell_id = 42;\n",
       "                var nbb_unformatted_code = \"df\";\n",
       "                var nbb_formatted_code = \"df\";\n",
       "                var nbb_cells = Jupyter.notebook.get_cells();\n",
       "                for (var i = 0; i < nbb_cells.length; ++i) {\n",
       "                    if (nbb_cells[i].input_prompt_number == nbb_cell_id) {\n",
       "                        if (nbb_cells[i].get_text() == nbb_unformatted_code) {\n",
       "                             nbb_cells[i].set_text(nbb_formatted_code);\n",
       "                        }\n",
       "                        break;\n",
       "                    }\n",
       "                }\n",
       "            }, 500);\n",
       "            "
      ],
      "text/plain": [
       "<IPython.core.display.Javascript object>"
      ]
     },
     "metadata": {},
     "output_type": "display_data"
    }
   ],
   "source": [
    "df"
   ]
  },
  {
   "cell_type": "code",
   "execution_count": 43,
   "metadata": {},
   "outputs": [
    {
     "data": {
      "text/plain": [
       "{'load time': 325.0, 'pick time': 201.66666666666666, 'unit': 120.0}"
      ]
     },
     "execution_count": 43,
     "metadata": {},
     "output_type": "execute_result"
    },
    {
     "data": {
      "application/javascript": [
       "\n",
       "            setTimeout(function() {\n",
       "                var nbb_cell_id = 43;\n",
       "                var nbb_unformatted_code = \"time(df)\";\n",
       "                var nbb_formatted_code = \"time(df)\";\n",
       "                var nbb_cells = Jupyter.notebook.get_cells();\n",
       "                for (var i = 0; i < nbb_cells.length; ++i) {\n",
       "                    if (nbb_cells[i].input_prompt_number == nbb_cell_id) {\n",
       "                        if (nbb_cells[i].get_text() == nbb_unformatted_code) {\n",
       "                             nbb_cells[i].set_text(nbb_formatted_code);\n",
       "                        }\n",
       "                        break;\n",
       "                    }\n",
       "                }\n",
       "            }, 500);\n",
       "            "
      ],
      "text/plain": [
       "<IPython.core.display.Javascript object>"
      ]
     },
     "metadata": {},
     "output_type": "display_data"
    }
   ],
   "source": [
    "time(df)"
   ]
  },
  {
   "cell_type": "code",
   "execution_count": 57,
   "metadata": {},
   "outputs": [
    {
     "name": "stdout",
     "output_type": "stream",
     "text": [
      "The Average PPH for dynamic workflow is : 13.76\n",
      "The Standard deviation PPH for dynamic workflow is : 0.07\n"
     ]
    },
    {
     "data": {
      "text/plain": [
       "<matplotlib.axes._subplots.AxesSubplot at 0x1e2a7112f48>"
      ]
     },
     "execution_count": 57,
     "metadata": {},
     "output_type": "execute_result"
    },
    {
     "data": {
      "image/png": "[encoded data removed]",
      "text/plain": [
       "<Figure size 432x288 with 1 Axes>"
      ]
     },
     "metadata": {
      "needs_background": "light"
     },
     "output_type": "display_data"
    },
    {
     "data": {
      "application/javascript": [
       "\n",
       "            setTimeout(function() {\n",
       "                var nbb_cell_id = 57;\n",
       "                var nbb_unformatted_code = \"np.random.seed(seed=5)\\n\\n\\npph_dynamic = []\\npph_regular = []\\n\\nstaging_capacity = 120\\n\\nfor i in range(1000):\\n    order = round(int(np.random.randint(200, 800, size=1)), -1)\\n    total_unit = 0\\n    total_time = 0\\n\\n    while (order // 120) > (total_unit // 120):\\n        total_unit = total_unit + time(df)[\\\"unit\\\"]\\n        total_time = total_time + time(df)[\\\"load time\\\"] + time(df)[\\\"pick time\\\"]\\n        # print(order,total_unit, total_time)\\n\\n    pass\\n    for j in df.index:\\n        if (df.loading[j] == (order - total_unit)) & (df.loading[j] != 0):\\n            total_time = (\\n                total_time\\n                + (df[\\\"loading\\\"][j] * 5 / df[\\\"loader\\\"][0])\\n                + (df[\\\"loading\\\"][j] * 5 / df[\\\"picker\\\"][0])\\n            )\\n\\n    eff = order / (total_time / 60)\\n    pph_dynamic.append(eff)\\n\\n    # Regular workflow\\n    loader = int(np.random.randint(1, 4, size=1))\\n    picker = 5 - loader\\n    load_time = ((staging_capacity) / loader) * 5\\n    pick_time = ((staging_capacity) / picker) * 5\\n    time_reg = load_time + pick_time\\n    total_reg = ((order) / 120) * time_reg\\n    pph_regular.append((order) / (total_reg / 60))\\n\\n\\n# average eff\\nprint(\\n    \\\"The Average PPH for dynamic workflow is :\\\", \\\"{:.2f}\\\".format(np.mean(pph_dynamic))\\n)\\nprint(\\n    \\\"The Standard deviation PPH for dynamic workflow is :\\\",\\n    \\\"{:.2f}\\\".format(np.std(pph_dynamic)),\\n)\\n\\n\\nsns.distplot(\\n    pph_dynamic, hist=True, kde=False, color=\\\"blue\\\", hist_kws={\\\"edgecolor\\\": \\\"black\\\"}\\n)\";\n",
       "                var nbb_formatted_code = \"np.random.seed(seed=5)\\n\\n\\npph_dynamic = []\\npph_regular = []\\n\\nstaging_capacity = 120\\n\\nfor i in range(1000):\\n    order = round(int(np.random.randint(200, 800, size=1)), -1)\\n    total_unit = 0\\n    total_time = 0\\n\\n    while (order // 120) > (total_unit // 120):\\n        total_unit = total_unit + time(df)[\\\"unit\\\"]\\n        total_time = total_time + time(df)[\\\"load time\\\"] + time(df)[\\\"pick time\\\"]\\n        # print(order,total_unit, total_time)\\n\\n    pass\\n    for j in df.index:\\n        if (df.loading[j] == (order - total_unit)) & (df.loading[j] != 0):\\n            total_time = (\\n                total_time\\n                + (df[\\\"loading\\\"][j] * 5 / df[\\\"loader\\\"][0])\\n                + (df[\\\"loading\\\"][j] * 5 / df[\\\"picker\\\"][0])\\n            )\\n\\n    eff = order / (total_time / 60)\\n    pph_dynamic.append(eff)\\n\\n    # Regular workflow\\n    loader = int(np.random.randint(1, 4, size=1))\\n    picker = 5 - loader\\n    load_time = ((staging_capacity) / loader) * 5\\n    pick_time = ((staging_capacity) / picker) * 5\\n    time_reg = load_time + pick_time\\n    total_reg = ((order) / 120) * time_reg\\n    pph_regular.append((order) / (total_reg / 60))\\n\\n\\n# average eff\\nprint(\\n    \\\"The Average PPH for dynamic workflow is :\\\", \\\"{:.2f}\\\".format(np.mean(pph_dynamic))\\n)\\nprint(\\n    \\\"The Standard deviation PPH for dynamic workflow is :\\\",\\n    \\\"{:.2f}\\\".format(np.std(pph_dynamic)),\\n)\\n\\n\\nsns.distplot(\\n    pph_dynamic, hist=True, kde=False, color=\\\"blue\\\", hist_kws={\\\"edgecolor\\\": \\\"black\\\"}\\n)\";\n",
       "                var nbb_cells = Jupyter.notebook.get_cells();\n",
       "                for (var i = 0; i < nbb_cells.length; ++i) {\n",
       "                    if (nbb_cells[i].input_prompt_number == nbb_cell_id) {\n",
       "                        if (nbb_cells[i].get_text() == nbb_unformatted_code) {\n",
       "                             nbb_cells[i].set_text(nbb_formatted_code);\n",
       "                        }\n",
       "                        break;\n",
       "                    }\n",
       "                }\n",
       "            }, 500);\n",
       "            "
      ],
      "text/plain": [
       "<IPython.core.display.Javascript object>"
      ]
     },
     "metadata": {},
     "output_type": "display_data"
    }
   ],
   "source": [
    "np.random.seed(seed=5)\n",
    "\n",
    "\n",
    "pph_dynamic = []\n",
    "pph_regular = []\n",
    "\n",
    "staging_capacity = 120\n",
    "#loop for calculating dynamic workflow\n",
    "for i in range(1000):\n",
    "    order = round(int(np.random.randint(200, 800, size=1)), -1)\n",
    "    total_unit = 0\n",
    "    total_time = 0\n",
    "\n",
    "    while (order // 120) > (total_unit // 120):\n",
    "        total_unit = total_unit + time(df)[\"unit\"]\n",
    "        total_time = total_time + time(df)[\"load time\"] + time(df)[\"pick time\"]\n",
    "        # print(order,total_unit, total_time)\n",
    "\n",
    "    pass\n",
    "    for j in df.index:\n",
    "        if (df.loading[j] == (order - total_unit)) & (df.loading[j] != 0):\n",
    "            total_time = (\n",
    "                total_time\n",
    "                + (df[\"loading\"][j] * 5 / df[\"loader\"][0])\n",
    "                + (df[\"loading\"][j] * 5 / df[\"picker\"][0])\n",
    "            )\n",
    "\n",
    "    eff = order / (total_time / 60)\n",
    "    pph_dynamic.append(eff)\n",
    "\n",
    "# Regular workflow\n",
    "    loader = int(np.random.randint(1, 4, size=1))\n",
    "    picker = 5 - loader\n",
    "    load_time = ((staging_capacity) / loader) * 5\n",
    "    pick_time = ((staging_capacity) / picker) * 5\n",
    "    time_reg = load_time + pick_time\n",
    "    total_reg = ((order) / 120) * time_reg\n",
    "    pph_regular.append((order) / (total_reg / 60))\n",
    "\n",
    "\n",
    "# average eff\n",
    "print(\n",
    "    \"The Average PPH for dynamic workflow is :\", \"{:.2f}\".format(np.mean(pph_dynamic))\n",
    ")\n",
    "print(\n",
    "    \"The Standard deviation PPH for dynamic workflow is :\",\n",
    "    \"{:.2f}\".format(np.std(pph_dynamic)),\n",
    ")\n",
    "\n",
    "\n",
    "sns.distplot(\n",
    "    pph_dynamic, hist=True, kde=False, color=\"blue\", hist_kws={\"edgecolor\": \"black\"}\n",
    ")\n",
    "\n",
    "\n"
   ]
  },
  {
   "cell_type": "code",
   "execution_count": 58,
   "metadata": {},
   "outputs": [
    {
     "name": "stdout",
     "output_type": "stream",
     "text": [
      "The Average PPH for regular workflow is : 12.84\n",
      "The Standard deviation PPH for regular workflow is : 2.25\n"
     ]
    },
    {
     "data": {
      "text/plain": [
       "<matplotlib.axes._subplots.AxesSubplot at 0x1e2a70ee288>"
      ]
     },
     "execution_count": 58,
     "metadata": {},
     "output_type": "execute_result"
    },
    {
     "data": {
      "image/png": "[encoded data removed]",
      "text/plain": [
       "<Figure size 432x288 with 1 Axes>"
      ]
     },
     "metadata": {
      "needs_background": "light"
     },
     "output_type": "display_data"
    },
    {
     "data": {
      "application/javascript": [
       "\n",
       "            setTimeout(function() {\n",
       "                var nbb_cell_id = 58;\n",
       "                var nbb_unformatted_code = \"# average eff\\nprint(\\n    \\\"The Average PPH for regular workflow is :\\\", \\\"{:.2f}\\\".format(np.mean(pph_regular))\\n)\\nprint(\\\"The Standard deviation PPH for regular workflow is :\\\",\\\"{:.2f}\\\".format(np.std(pph_regular)))\\n\\n\\n\\nsns.distplot(\\n    pph_regular, hist=True, kde=False, color=\\\"blue\\\", hist_kws={\\\"edgecolor\\\": \\\"black\\\"})\";\n",
       "                var nbb_formatted_code = \"# average eff\\nprint(\\n    \\\"The Average PPH for regular workflow is :\\\", \\\"{:.2f}\\\".format(np.mean(pph_regular))\\n)\\nprint(\\n    \\\"The Standard deviation PPH for regular workflow is :\\\",\\n    \\\"{:.2f}\\\".format(np.std(pph_regular)),\\n)\\n\\n\\nsns.distplot(\\n    pph_regular, hist=True, kde=False, color=\\\"blue\\\", hist_kws={\\\"edgecolor\\\": \\\"black\\\"}\\n)\";\n",
       "                var nbb_cells = Jupyter.notebook.get_cells();\n",
       "                for (var i = 0; i < nbb_cells.length; ++i) {\n",
       "                    if (nbb_cells[i].input_prompt_number == nbb_cell_id) {\n",
       "                        if (nbb_cells[i].get_text() == nbb_unformatted_code) {\n",
       "                             nbb_cells[i].set_text(nbb_formatted_code);\n",
       "                        }\n",
       "                        break;\n",
       "                    }\n",
       "                }\n",
       "            }, 500);\n",
       "            "
      ],
      "text/plain": [
       "<IPython.core.display.Javascript object>"
      ]
     },
     "metadata": {},
     "output_type": "display_data"
    }
   ],
   "source": [
    "# average eff\n",
    "print(\n",
    "    \"The Average PPH for regular workflow is :\", \"{:.2f}\".format(np.mean(pph_regular))\n",
    ")\n",
    "print(\"The Standard deviation PPH for regular workflow is :\",\"{:.2f}\".format(np.std(pph_regular)))\n",
    "\n",
    "\n",
    "\n",
    "sns.distplot(\n",
    "    pph_regular, hist=True, kde=False, color=\"blue\", hist_kws={\"edgecolor\": \"black\"})\n",
    "\n"
   ]
  },
  {
   "cell_type": "code",
   "execution_count": null,
   "metadata": {},
   "outputs": [],
   "source": []
  }
 ],
 "metadata": {
  "kernelspec": {
   "display_name": "Python 3",
   "language": "python",
   "name": "python3"
  },
  "language_info": {
   "codemirror_mode": {
    "name": "ipython",
    "version": 3
   },
   "file_extension": ".py",
   "mimetype": "text/x-python",
   "name": "python",
   "nbconvert_exporter": "python",
   "pygments_lexer": "ipython3",
   "version": "3.7.4"
  }
 },
 "nbformat": 4,
 "nbformat_minor": 2
}
